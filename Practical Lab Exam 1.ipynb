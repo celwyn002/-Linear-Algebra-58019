{
  "nbformat": 4,
  "nbformat_minor": 0,
  "metadata": {
    "colab": {
      "name": "Untitled3.ipynb",
      "provenance": [],
      "authorship_tag": "ABX9TyOB9nRJmLKtqNcvbLEKT+fe",
      "include_colab_link": true
    },
    "kernelspec": {
      "name": "python3",
      "display_name": "Python 3"
    },
    "language_info": {
      "name": "python"
    }
  },
  "cells": [
    {
      "cell_type": "markdown",
      "metadata": {
        "id": "view-in-github",
        "colab_type": "text"
      },
      "source": [
        "<a href=\"https://colab.research.google.com/github/celwyn002/-Linear-Algebra-58019/blob/main/Practical%20Lab%20Exam%201.ipynb\" target=\"_parent\"><img src=\"https://colab.research.google.com/assets/colab-badge.svg\" alt=\"Open In Colab\"/></a>"
      ]
    },
    {
      "cell_type": "code",
      "metadata": {
        "colab": {
          "base_uri": "https://localhost:8080/"
        },
        "id": "BPdU3iaSSIEk",
        "outputId": "9276cd9e-057d-431e-b88b-a49583409334"
      },
      "source": [
        "import numpy as np\n",
        "#1 WY\n",
        "W = np.array([[1,-3],[2,-2],[3,1]])\n",
        "print(\"Vector W is\" , W)\n"
      ],
      "execution_count": 1,
      "outputs": [
        {
          "output_type": "stream",
          "name": "stdout",
          "text": [
            "Vector W is [[ 1 -3]\n",
            " [ 2 -2]\n",
            " [ 3  1]]\n"
          ]
        }
      ]
    },
    {
      "cell_type": "code",
      "metadata": {
        "colab": {
          "base_uri": "https://localhost:8080/"
        },
        "id": "dG8Ea2z6SLGH",
        "outputId": "fbfe8be9-cd2f-473a-d5de-cf5c179cea28"
      },
      "source": [
        "import numpy as np\n",
        "\n",
        "Y= np.array([[1,2,0],[0,-1,2]])\n",
        "print(\"Vector Y is\" , Y)\n",
        "\n"
      ],
      "execution_count": 11,
      "outputs": [
        {
          "output_type": "stream",
          "name": "stdout",
          "text": [
            "Vector Y is [[ 1  2  0]\n",
            " [ 0 -1  2]]\n"
          ]
        }
      ]
    },
    {
      "cell_type": "code",
      "metadata": {
        "colab": {
          "base_uri": "https://localhost:8080/"
        },
        "id": "SbcEMhhiSTxt",
        "outputId": "93c1e88d-7f83-420e-da88-6bb20e98f588"
      },
      "source": [
        "print(np.dot(W,Y))"
      ],
      "execution_count": 12,
      "outputs": [
        {
          "output_type": "stream",
          "name": "stdout",
          "text": [
            "[[ 1  5 -6]\n",
            " [ 2  6 -4]\n",
            " [ 3  5  2]]\n"
          ]
        }
      ]
    }
  ]
}